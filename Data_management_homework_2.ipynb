{
  "nbformat": 4,
  "nbformat_minor": 0,
  "metadata": {
    "colab": {
      "provenance": [],
      "authorship_tag": "ABX9TyPTKRyBEFdBWj+acF+i9EV2",
      "include_colab_link": true
    },
    "kernelspec": {
      "name": "python3",
      "display_name": "Python 3"
    },
    "language_info": {
      "name": "python"
    }
  },
  "cells": [
    {
      "cell_type": "markdown",
      "metadata": {
        "id": "view-in-github",
        "colab_type": "text"
      },
      "source": [
        "<a href=\"https://colab.research.google.com/github/albina777/RNA-to-DNA/blob/main/Data_management_homework_2.ipynb\" target=\"_parent\"><img src=\"https://colab.research.google.com/assets/colab-badge.svg\" alt=\"Open In Colab\"/></a>"
      ]
    },
    {
      "cell_type": "code",
      "execution_count": 4,
      "metadata": {
        "id": "zRO8O1y5fQ_l"
      },
      "outputs": [],
      "source": [
        "import requests\n",
        "from bs4 import BeautifulSoup\n",
        "import pandas as pd"
      ]
    },
    {
      "cell_type": "code",
      "source": [
        "base_url = \"https://quotes.toscrape.com\"\n",
        "author_base = \"https://quotes.toscrape.com/author/\"\n",
        "r = requests.get(base_url)\n",
        "print(r.status_code)\n",
        "soup = BeautifulSoup(r.content, \"html.parser\")"
      ],
      "metadata": {
        "colab": {
          "base_uri": "https://localhost:8080/"
        },
        "id": "AWvKLy7Nq9W4",
        "outputId": "7c2768ef-3bec-4653-81cd-552248cebdb6"
      },
      "execution_count": 38,
      "outputs": [
        {
          "output_type": "stream",
          "name": "stdout",
          "text": [
            "200\n"
          ]
        }
      ]
    },
    {
      "cell_type": "code",
      "source": [
        "quote = soup.find_all(\"span\", class_=\"text\")\n",
        "quote"
      ],
      "metadata": {
        "colab": {
          "base_uri": "https://localhost:8080/"
        },
        "collapsed": true,
        "id": "_cpdvFz1EfMq",
        "outputId": "2785e5b9-89de-4a18-814c-ddb3f157592d"
      },
      "execution_count": 17,
      "outputs": [
        {
          "output_type": "execute_result",
          "data": {
            "text/plain": [
              "[<span class=\"text\" itemprop=\"text\">“The world as we have created it is a process of our thinking. It cannot be changed without changing our thinking.”</span>,\n",
              " <span class=\"text\" itemprop=\"text\">“It is our choices, Harry, that show what we truly are, far more than our abilities.”</span>,\n",
              " <span class=\"text\" itemprop=\"text\">“There are only two ways to live your life. One is as though nothing is a miracle. The other is as though everything is a miracle.”</span>,\n",
              " <span class=\"text\" itemprop=\"text\">“The person, be it gentleman or lady, who has not pleasure in a good novel, must be intolerably stupid.”</span>,\n",
              " <span class=\"text\" itemprop=\"text\">“Imperfection is beauty, madness is genius and it's better to be absolutely ridiculous than absolutely boring.”</span>,\n",
              " <span class=\"text\" itemprop=\"text\">“Try not to become a man of success. Rather become a man of value.”</span>,\n",
              " <span class=\"text\" itemprop=\"text\">“It is better to be hated for what you are than to be loved for what you are not.”</span>,\n",
              " <span class=\"text\" itemprop=\"text\">“I have not failed. I've just found 10,000 ways that won't work.”</span>,\n",
              " <span class=\"text\" itemprop=\"text\">“A woman is like a tea bag; you never know how strong it is until it's in hot water.”</span>,\n",
              " <span class=\"text\" itemprop=\"text\">“A day without sunshine is like, you know, night.”</span>]"
            ]
          },
          "metadata": {},
          "execution_count": 17
        }
      ]
    },
    {
      "cell_type": "code",
      "source": [
        "author = soup.find_all(\"small\", class_=\"author\")\n",
        "author"
      ],
      "metadata": {
        "colab": {
          "base_uri": "https://localhost:8080/"
        },
        "collapsed": true,
        "id": "_nNSwY-KEhUr",
        "outputId": "5d7a5d8b-3dbd-4c32-d473-cca23b9c01ed"
      },
      "execution_count": 18,
      "outputs": [
        {
          "output_type": "execute_result",
          "data": {
            "text/plain": [
              "[<small class=\"author\" itemprop=\"author\">Albert Einstein</small>,\n",
              " <small class=\"author\" itemprop=\"author\">J.K. Rowling</small>,\n",
              " <small class=\"author\" itemprop=\"author\">Albert Einstein</small>,\n",
              " <small class=\"author\" itemprop=\"author\">Jane Austen</small>,\n",
              " <small class=\"author\" itemprop=\"author\">Marilyn Monroe</small>,\n",
              " <small class=\"author\" itemprop=\"author\">Albert Einstein</small>,\n",
              " <small class=\"author\" itemprop=\"author\">André Gide</small>,\n",
              " <small class=\"author\" itemprop=\"author\">Thomas A. Edison</small>,\n",
              " <small class=\"author\" itemprop=\"author\">Eleanor Roosevelt</small>,\n",
              " <small class=\"author\" itemprop=\"author\">Steve Martin</small>]"
            ]
          },
          "metadata": {},
          "execution_count": 18
        }
      ]
    },
    {
      "cell_type": "code",
      "source": [
        "tags = soup.find_all(\"a\", class_=\"tag\")\n",
        "tags"
      ],
      "metadata": {
        "colab": {
          "base_uri": "https://localhost:8080/"
        },
        "collapsed": true,
        "id": "B4dbq_fDEjSV",
        "outputId": "9ea82f78-bac2-4203-9f43-c7560e8b06f8"
      },
      "execution_count": 28,
      "outputs": [
        {
          "output_type": "execute_result",
          "data": {
            "text/plain": [
              "[<a class=\"tag\" href=\"/tag/change/page/1/\">change</a>,\n",
              " <a class=\"tag\" href=\"/tag/deep-thoughts/page/1/\">deep-thoughts</a>,\n",
              " <a class=\"tag\" href=\"/tag/thinking/page/1/\">thinking</a>,\n",
              " <a class=\"tag\" href=\"/tag/world/page/1/\">world</a>,\n",
              " <a class=\"tag\" href=\"/tag/abilities/page/1/\">abilities</a>,\n",
              " <a class=\"tag\" href=\"/tag/choices/page/1/\">choices</a>,\n",
              " <a class=\"tag\" href=\"/tag/inspirational/page/1/\">inspirational</a>,\n",
              " <a class=\"tag\" href=\"/tag/life/page/1/\">life</a>,\n",
              " <a class=\"tag\" href=\"/tag/live/page/1/\">live</a>,\n",
              " <a class=\"tag\" href=\"/tag/miracle/page/1/\">miracle</a>,\n",
              " <a class=\"tag\" href=\"/tag/miracles/page/1/\">miracles</a>,\n",
              " <a class=\"tag\" href=\"/tag/aliteracy/page/1/\">aliteracy</a>,\n",
              " <a class=\"tag\" href=\"/tag/books/page/1/\">books</a>,\n",
              " <a class=\"tag\" href=\"/tag/classic/page/1/\">classic</a>,\n",
              " <a class=\"tag\" href=\"/tag/humor/page/1/\">humor</a>,\n",
              " <a class=\"tag\" href=\"/tag/be-yourself/page/1/\">be-yourself</a>,\n",
              " <a class=\"tag\" href=\"/tag/inspirational/page/1/\">inspirational</a>,\n",
              " <a class=\"tag\" href=\"/tag/adulthood/page/1/\">adulthood</a>,\n",
              " <a class=\"tag\" href=\"/tag/success/page/1/\">success</a>,\n",
              " <a class=\"tag\" href=\"/tag/value/page/1/\">value</a>,\n",
              " <a class=\"tag\" href=\"/tag/life/page/1/\">life</a>,\n",
              " <a class=\"tag\" href=\"/tag/love/page/1/\">love</a>,\n",
              " <a class=\"tag\" href=\"/tag/edison/page/1/\">edison</a>,\n",
              " <a class=\"tag\" href=\"/tag/failure/page/1/\">failure</a>,\n",
              " <a class=\"tag\" href=\"/tag/inspirational/page/1/\">inspirational</a>,\n",
              " <a class=\"tag\" href=\"/tag/paraphrased/page/1/\">paraphrased</a>,\n",
              " <a class=\"tag\" href=\"/tag/misattributed-eleanor-roosevelt/page/1/\">misattributed-eleanor-roosevelt</a>,\n",
              " <a class=\"tag\" href=\"/tag/humor/page/1/\">humor</a>,\n",
              " <a class=\"tag\" href=\"/tag/obvious/page/1/\">obvious</a>,\n",
              " <a class=\"tag\" href=\"/tag/simile/page/1/\">simile</a>,\n",
              " <a class=\"tag\" href=\"/tag/love/\" style=\"font-size: 28px\">love</a>,\n",
              " <a class=\"tag\" href=\"/tag/inspirational/\" style=\"font-size: 26px\">inspirational</a>,\n",
              " <a class=\"tag\" href=\"/tag/life/\" style=\"font-size: 26px\">life</a>,\n",
              " <a class=\"tag\" href=\"/tag/humor/\" style=\"font-size: 24px\">humor</a>,\n",
              " <a class=\"tag\" href=\"/tag/books/\" style=\"font-size: 22px\">books</a>,\n",
              " <a class=\"tag\" href=\"/tag/reading/\" style=\"font-size: 14px\">reading</a>,\n",
              " <a class=\"tag\" href=\"/tag/friendship/\" style=\"font-size: 10px\">friendship</a>,\n",
              " <a class=\"tag\" href=\"/tag/friends/\" style=\"font-size: 8px\">friends</a>,\n",
              " <a class=\"tag\" href=\"/tag/truth/\" style=\"font-size: 8px\">truth</a>,\n",
              " <a class=\"tag\" href=\"/tag/simile/\" style=\"font-size: 6px\">simile</a>]"
            ]
          },
          "metadata": {},
          "execution_count": 28
        }
      ]
    },
    {
      "cell_type": "code",
      "source": [
        "df_list = []\n",
        "\n",
        "for page_number in range (1,11):\n",
        "  url = base_url.replace(\"<placeholder>\" , str(page_number))\n",
        "  r = requests.get(url)\n",
        "  soup = BeautifulSoup(r.content, \"html.parser\")\n",
        "\n",
        "\n",
        "  quote_blocks = soup.find_all(\"div\", class_=\"quote\")\n",
        "\n",
        "  quote_list = []\n",
        "  author_list = []\n",
        "  tags_list = []\n",
        "  born_list =[]\n",
        "  location_list = []\n",
        "  desc_list = []\n",
        "\n",
        "  for block in quote_blocks:\n",
        "    quote = block.find(\"span\", class_=\"text\")\n",
        "    quote_list.append(quote.text)\n",
        "\n",
        "    author = soup.find_all(\"small\", class_=\"author\")\n",
        "    author_list = []\n",
        "    for a in author:\n",
        "      author_list.append(a.text)\n",
        "\n",
        "    tag_elements = block.find_all(\"a\", class_=\"tag\")\n",
        "    tag_text = \", \".join([t.text for t in tag_elements])\n",
        "    tags_list.append(tag_text)\n",
        "\n",
        "\n",
        "    author_link = block.find(\"a\")[\"href\"]\n",
        "    author_url = base_url + author_link\n",
        "    author_page = requests.get(author_url)\n",
        "    author_soup = BeautifulSoup(author_page.content, \"html.parser\")\n",
        "\n",
        "\n",
        "    born = author_soup.find(\"span\", class_=\"author-born-date\").text\n",
        "    born_list.append(born)\n",
        "\n",
        "\n",
        "    location = author_soup.find(\"span\", class_=\"author-born-location\").text\n",
        "    location_list.append(location)\n",
        "\n",
        "\n",
        "    description = author_soup.find(\"div\", class_=\"author-description\").text.strip()\n",
        "    desc_list.append(description)\n",
        "\n",
        "\n",
        "\n",
        "\n",
        "\n",
        "\n"
      ],
      "metadata": {
        "collapsed": true,
        "id": "Qxz0upMG8IrR"
      },
      "execution_count": 42,
      "outputs": []
    },
    {
      "cell_type": "code",
      "source": [
        "df = pd.DataFrame({\n",
        "    \"Quote\": quote_list,\n",
        "    \"Author\": author_list,\n",
        "    \"Tags\": tags_list,\n",
        "    \"Born\": born_list,\n",
        "    \"Location\": location_list,\n",
        "    \"Description\": desc_list\n",
        "})\n",
        "\n",
        "df_list.append(df)\n",
        "df_list"
      ],
      "metadata": {
        "colab": {
          "base_uri": "https://localhost:8080/"
        },
        "id": "qKkh9CJt-fNx",
        "outputId": "758a8e08-08f5-4040-c233-74da1164a018"
      },
      "execution_count": 43,
      "outputs": [
        {
          "output_type": "execute_result",
          "data": {
            "text/plain": [
              "[                                               Quote             Author  \\\n",
              " 0  “The world as we have created it is a process ...    Albert Einstein   \n",
              " 1  “It is our choices, Harry, that show what we t...       J.K. Rowling   \n",
              " 2  “There are only two ways to live your life. On...    Albert Einstein   \n",
              " 3  “The person, be it gentleman or lady, who has ...        Jane Austen   \n",
              " 4  “Imperfection is beauty, madness is genius and...     Marilyn Monroe   \n",
              " 5  “Try not to become a man of success. Rather be...    Albert Einstein   \n",
              " 6  “It is better to be hated for what you are tha...         André Gide   \n",
              " 7  “I have not failed. I've just found 10,000 way...   Thomas A. Edison   \n",
              " 8  “A woman is like a tea bag; you never know how...  Eleanor Roosevelt   \n",
              " 9  “A day without sunshine is like, you know, nig...       Steve Martin   \n",
              " \n",
              "                                            Tags               Born  \\\n",
              " 0        change, deep-thoughts, thinking, world     March 14, 1879   \n",
              " 1                            abilities, choices      July 31, 1965   \n",
              " 2  inspirational, life, live, miracle, miracles     March 14, 1879   \n",
              " 3              aliteracy, books, classic, humor  December 16, 1775   \n",
              " 4                    be-yourself, inspirational      June 01, 1926   \n",
              " 5                     adulthood, success, value     March 14, 1879   \n",
              " 6                                    life, love  November 22, 1869   \n",
              " 7   edison, failure, inspirational, paraphrased  February 11, 1847   \n",
              " 8               misattributed-eleanor-roosevelt   October 11, 1884   \n",
              " 9                        humor, obvious, simile    August 14, 1945   \n",
              " \n",
              "                                             Location  \\\n",
              " 0                                    in Ulm, Germany   \n",
              " 1  in Yate, South Gloucestershire, England, The U...   \n",
              " 2                                    in Ulm, Germany   \n",
              " 3  in Steventon Rectory, Hampshire, The United Ki...   \n",
              " 4                               in The United States   \n",
              " 5                                    in Ulm, Germany   \n",
              " 6                                   in Paris, France   \n",
              " 7                  in Milan, Ohio, The United States   \n",
              " 8                               in The United States   \n",
              " 9                  in Waco, Texas, The United States   \n",
              " \n",
              "                                          Description  \n",
              " 0  In 1879, Albert Einstein was born in Ulm, Germ...  \n",
              " 1  See also: Robert GalbraithAlthough she writes ...  \n",
              " 2  In 1879, Albert Einstein was born in Ulm, Germ...  \n",
              " 3  Jane Austen was an English novelist whose work...  \n",
              " 4  Marilyn Monroe (born Norma Jeane Mortenson; Ju...  \n",
              " 5  In 1879, Albert Einstein was born in Ulm, Germ...  \n",
              " 6  André Paul Guillaume Gide was a French author ...  \n",
              " 7  Thomas Alva Edison was an American inventor, s...  \n",
              " 8  Anna Eleanor Roosevelt was an American politic...  \n",
              " 9  Stephen Glenn \"Steve\" Martin is an American ac...  ]"
            ]
          },
          "metadata": {},
          "execution_count": 43
        }
      ]
    }
  ]
}